{
 "cells": [
  {
   "cell_type": "markdown",
   "id": "67baad5a",
   "metadata": {},
   "source": [
    "# Bank Churn Prediction \n",
    "it is much more expensive to sign in a new client than keeping an existing one. It is advantageous for banks to know what leads a client towards the decision to leave the company. Churn prevention allows companies to develop loyalty programs and retention campaigns to \n",
    "keep as many customers as possible. I explored the following classification techniques and compared the accuracy and other metrics such as AUC score.\n",
    "Models Explored:\n",
    "1. Logistic Regression \n",
    "2. XG Boost\n",
    "\n",
    "All steps:\n",
    "1. Data preprocessing : to check any missing values, correlated variable, and dummy encoding\n",
    "2. EDA:  to develop hypothesis\n",
    "3. Scaling data : it helps to improve accuracy \n",
    "4. Splitting data into data train and data test\n",
    "6. Testing the accuracy on test data and plotting AUC\n",
    "7. Comparing each model  "
   ]
  },
  {
   "cell_type": "code",
   "execution_count": 1,
   "id": "ff9cda50",
   "metadata": {},
   "outputs": [],
   "source": [
    "import pandas as pd\n",
    "import numpy as np\n",
    "import matplotlib.pyplot as plt\n",
    "import matplotlib.ticker as mtick #for specifying the axes tick formatt\n",
    "import seaborn as sns\n",
    "sns.set (style = 'white')"
   ]
  },
  {
   "cell_type": "code",
   "execution_count": 2,
   "id": "e6727ca9",
   "metadata": {},
   "outputs": [],
   "source": [
    "data = pd.read_csv('bank_dataset.csv')"
   ]
  },
  {
   "cell_type": "code",
   "execution_count": 3,
   "id": "b2fc6603",
   "metadata": {},
   "outputs": [
    {
     "data": {
      "text/html": [
       "<div>\n",
       "<style scoped>\n",
       "    .dataframe tbody tr th:only-of-type {\n",
       "        vertical-align: middle;\n",
       "    }\n",
       "\n",
       "    .dataframe tbody tr th {\n",
       "        vertical-align: top;\n",
       "    }\n",
       "\n",
       "    .dataframe thead th {\n",
       "        text-align: right;\n",
       "    }\n",
       "</style>\n",
       "<table border=\"1\" class=\"dataframe\">\n",
       "  <thead>\n",
       "    <tr style=\"text-align: right;\">\n",
       "      <th></th>\n",
       "      <th>RowNumber</th>\n",
       "      <th>CustomerId</th>\n",
       "      <th>Surname</th>\n",
       "      <th>CreditScore</th>\n",
       "      <th>Geography</th>\n",
       "      <th>Gender</th>\n",
       "      <th>Age</th>\n",
       "      <th>Tenure</th>\n",
       "      <th>Balance</th>\n",
       "      <th>NumOfProducts</th>\n",
       "      <th>HasCrCard</th>\n",
       "      <th>IsActiveMember</th>\n",
       "      <th>EstimatedSalary</th>\n",
       "      <th>Exited</th>\n",
       "    </tr>\n",
       "  </thead>\n",
       "  <tbody>\n",
       "    <tr>\n",
       "      <th>0</th>\n",
       "      <td>1</td>\n",
       "      <td>15634602</td>\n",
       "      <td>Hargrave</td>\n",
       "      <td>619</td>\n",
       "      <td>France</td>\n",
       "      <td>Female</td>\n",
       "      <td>42</td>\n",
       "      <td>2</td>\n",
       "      <td>0.00</td>\n",
       "      <td>1</td>\n",
       "      <td>1</td>\n",
       "      <td>1</td>\n",
       "      <td>101348.88</td>\n",
       "      <td>1</td>\n",
       "    </tr>\n",
       "    <tr>\n",
       "      <th>1</th>\n",
       "      <td>2</td>\n",
       "      <td>15647311</td>\n",
       "      <td>Hill</td>\n",
       "      <td>608</td>\n",
       "      <td>Spain</td>\n",
       "      <td>Female</td>\n",
       "      <td>41</td>\n",
       "      <td>1</td>\n",
       "      <td>83807.86</td>\n",
       "      <td>1</td>\n",
       "      <td>0</td>\n",
       "      <td>1</td>\n",
       "      <td>112542.58</td>\n",
       "      <td>0</td>\n",
       "    </tr>\n",
       "    <tr>\n",
       "      <th>2</th>\n",
       "      <td>3</td>\n",
       "      <td>15619304</td>\n",
       "      <td>Onio</td>\n",
       "      <td>502</td>\n",
       "      <td>France</td>\n",
       "      <td>Female</td>\n",
       "      <td>42</td>\n",
       "      <td>8</td>\n",
       "      <td>159660.80</td>\n",
       "      <td>3</td>\n",
       "      <td>1</td>\n",
       "      <td>0</td>\n",
       "      <td>113931.57</td>\n",
       "      <td>1</td>\n",
       "    </tr>\n",
       "    <tr>\n",
       "      <th>3</th>\n",
       "      <td>4</td>\n",
       "      <td>15701354</td>\n",
       "      <td>Boni</td>\n",
       "      <td>699</td>\n",
       "      <td>France</td>\n",
       "      <td>Female</td>\n",
       "      <td>39</td>\n",
       "      <td>1</td>\n",
       "      <td>0.00</td>\n",
       "      <td>2</td>\n",
       "      <td>0</td>\n",
       "      <td>0</td>\n",
       "      <td>93826.63</td>\n",
       "      <td>0</td>\n",
       "    </tr>\n",
       "    <tr>\n",
       "      <th>4</th>\n",
       "      <td>5</td>\n",
       "      <td>15737888</td>\n",
       "      <td>Mitchell</td>\n",
       "      <td>850</td>\n",
       "      <td>Spain</td>\n",
       "      <td>Female</td>\n",
       "      <td>43</td>\n",
       "      <td>2</td>\n",
       "      <td>125510.82</td>\n",
       "      <td>1</td>\n",
       "      <td>1</td>\n",
       "      <td>1</td>\n",
       "      <td>79084.10</td>\n",
       "      <td>0</td>\n",
       "    </tr>\n",
       "  </tbody>\n",
       "</table>\n",
       "</div>"
      ],
      "text/plain": [
       "   RowNumber  CustomerId   Surname  CreditScore Geography  Gender  Age  \\\n",
       "0          1    15634602  Hargrave          619    France  Female   42   \n",
       "1          2    15647311      Hill          608     Spain  Female   41   \n",
       "2          3    15619304      Onio          502    France  Female   42   \n",
       "3          4    15701354      Boni          699    France  Female   39   \n",
       "4          5    15737888  Mitchell          850     Spain  Female   43   \n",
       "\n",
       "   Tenure    Balance  NumOfProducts  HasCrCard  IsActiveMember  \\\n",
       "0       2       0.00              1          1               1   \n",
       "1       1   83807.86              1          0               1   \n",
       "2       8  159660.80              3          1               0   \n",
       "3       1       0.00              2          0               0   \n",
       "4       2  125510.82              1          1               1   \n",
       "\n",
       "   EstimatedSalary  Exited  \n",
       "0        101348.88       1  \n",
       "1        112542.58       0  \n",
       "2        113931.57       1  \n",
       "3         93826.63       0  \n",
       "4         79084.10       0  "
      ]
     },
     "execution_count": 3,
     "metadata": {},
     "output_type": "execute_result"
    }
   ],
   "source": [
    "data.head()"
   ]
  },
  {
   "cell_type": "markdown",
   "id": "5e7b488c",
   "metadata": {},
   "source": [
    "# About dataset:\n",
    "\n",
    "RowNumber: corresponds to the record (row) number and has no effect on the output.\n",
    "\n",
    "CustomerId :contains random values and has no effect on customer leaving the bank.\n",
    "\n",
    "Surname: the surname of a customer has no impact on their decision to leave the bank.\n",
    "\n",
    "CreditScore : can have an effect on customer churn, since a customer with a higher credit score is less likely to leave the bank.\n",
    "\n",
    "Geography :a customer’s location can affect their decision to leave the bank.\n",
    "\n",
    "Gender : it’s interesting to explore whether gender plays a role in a customer leaving the bank.\n",
    "\n",
    "Age : this is certainly relevant, since older customers are less likely to leave their bank than younger ones.\n",
    "\n",
    "Tenure : refers to the number of years that the customer has been a client of the bank. Normally, older clients are more loyal and less likely to leave a bank.\n",
    "\n",
    "Balance : also a very good indicator of customer churn, as people with a higher balance in their accounts are less likely to leave the bank compared to those with lower balances.\n",
    "\n",
    "NumOfProducts: refers to the number of products that a customer has purchased through the bank.\n",
    "\n",
    "HasCrCard: denotes whether or not a customer has a credit card. This column is also relevant, since people with a credit card are less likely to leave the bank.\n",
    "\n",
    "IsActiveMember : active customers are less likely to leave the bank.\n",
    "\n",
    "EstimatedSalary : as with balance, people with lower salaries are more likely to leave the bank compared to those with higher salaries.\n",
    "\n",
    "Exited : whether or not the customer left the bank.\n",
    "\n",
    "Acknowledgements\n",
    "As we know, it is much more expensive to sign in a new client than keeping an existing one.\n",
    "It is advantageous for banks to know what leads a client towards the decision to leave the company.\n",
    "Churn prevention allows companies to develop loyalty programs and retention campaigns to keep as many customers as possible."
   ]
  },
  {
   "cell_type": "code",
   "execution_count": 4,
   "id": "dfe0cc0f",
   "metadata": {},
   "outputs": [
    {
     "name": "stdout",
     "output_type": "stream",
     "text": [
      "<class 'pandas.core.frame.DataFrame'>\n",
      "RangeIndex: 10000 entries, 0 to 9999\n",
      "Data columns (total 14 columns):\n",
      " #   Column           Non-Null Count  Dtype  \n",
      "---  ------           --------------  -----  \n",
      " 0   RowNumber        10000 non-null  int64  \n",
      " 1   CustomerId       10000 non-null  int64  \n",
      " 2   Surname          10000 non-null  object \n",
      " 3   CreditScore      10000 non-null  int64  \n",
      " 4   Geography        10000 non-null  object \n",
      " 5   Gender           10000 non-null  object \n",
      " 6   Age              10000 non-null  int64  \n",
      " 7   Tenure           10000 non-null  int64  \n",
      " 8   Balance          10000 non-null  float64\n",
      " 9   NumOfProducts    10000 non-null  int64  \n",
      " 10  HasCrCard        10000 non-null  int64  \n",
      " 11  IsActiveMember   10000 non-null  int64  \n",
      " 12  EstimatedSalary  10000 non-null  float64\n",
      " 13  Exited           10000 non-null  int64  \n",
      "dtypes: float64(2), int64(9), object(3)\n",
      "memory usage: 1.1+ MB\n"
     ]
    }
   ],
   "source": [
    "data.info()"
   ]
  },
  {
   "cell_type": "code",
   "execution_count": 5,
   "id": "878d0cd3",
   "metadata": {},
   "outputs": [
    {
     "data": {
      "text/plain": [
       "array(['RowNumber', 'CustomerId', 'Surname', 'CreditScore', 'Geography',\n",
       "       'Gender', 'Age', 'Tenure', 'Balance', 'NumOfProducts', 'HasCrCard',\n",
       "       'IsActiveMember', 'EstimatedSalary', 'Exited'], dtype=object)"
      ]
     },
     "execution_count": 5,
     "metadata": {},
     "output_type": "execute_result"
    }
   ],
   "source": [
    "data.isna().any(axis=0).any()\n",
    "data.columns.values"
   ]
  },
  {
   "cell_type": "code",
   "execution_count": 6,
   "id": "d293bffe",
   "metadata": {},
   "outputs": [
    {
     "data": {
      "text/html": [
       "<div>\n",
       "<style scoped>\n",
       "    .dataframe tbody tr th:only-of-type {\n",
       "        vertical-align: middle;\n",
       "    }\n",
       "\n",
       "    .dataframe tbody tr th {\n",
       "        vertical-align: top;\n",
       "    }\n",
       "\n",
       "    .dataframe thead th {\n",
       "        text-align: right;\n",
       "    }\n",
       "</style>\n",
       "<table border=\"1\" class=\"dataframe\">\n",
       "  <thead>\n",
       "    <tr style=\"text-align: right;\">\n",
       "      <th></th>\n",
       "      <th>RowNumber</th>\n",
       "      <th>CustomerId</th>\n",
       "      <th>CreditScore</th>\n",
       "      <th>Age</th>\n",
       "      <th>Tenure</th>\n",
       "      <th>Balance</th>\n",
       "      <th>NumOfProducts</th>\n",
       "      <th>HasCrCard</th>\n",
       "      <th>IsActiveMember</th>\n",
       "      <th>EstimatedSalary</th>\n",
       "      <th>Exited</th>\n",
       "    </tr>\n",
       "  </thead>\n",
       "  <tbody>\n",
       "    <tr>\n",
       "      <th>count</th>\n",
       "      <td>10000.00000</td>\n",
       "      <td>1.000000e+04</td>\n",
       "      <td>10000.000000</td>\n",
       "      <td>10000.000000</td>\n",
       "      <td>10000.000000</td>\n",
       "      <td>10000.000000</td>\n",
       "      <td>10000.000000</td>\n",
       "      <td>10000.00000</td>\n",
       "      <td>10000.000000</td>\n",
       "      <td>10000.000000</td>\n",
       "      <td>10000.000000</td>\n",
       "    </tr>\n",
       "    <tr>\n",
       "      <th>mean</th>\n",
       "      <td>5000.50000</td>\n",
       "      <td>1.569094e+07</td>\n",
       "      <td>650.528800</td>\n",
       "      <td>38.921800</td>\n",
       "      <td>5.012800</td>\n",
       "      <td>76485.889288</td>\n",
       "      <td>1.530200</td>\n",
       "      <td>0.70550</td>\n",
       "      <td>0.515100</td>\n",
       "      <td>100090.239881</td>\n",
       "      <td>0.203700</td>\n",
       "    </tr>\n",
       "    <tr>\n",
       "      <th>std</th>\n",
       "      <td>2886.89568</td>\n",
       "      <td>7.193619e+04</td>\n",
       "      <td>96.653299</td>\n",
       "      <td>10.487806</td>\n",
       "      <td>2.892174</td>\n",
       "      <td>62397.405202</td>\n",
       "      <td>0.581654</td>\n",
       "      <td>0.45584</td>\n",
       "      <td>0.499797</td>\n",
       "      <td>57510.492818</td>\n",
       "      <td>0.402769</td>\n",
       "    </tr>\n",
       "    <tr>\n",
       "      <th>min</th>\n",
       "      <td>1.00000</td>\n",
       "      <td>1.556570e+07</td>\n",
       "      <td>350.000000</td>\n",
       "      <td>18.000000</td>\n",
       "      <td>0.000000</td>\n",
       "      <td>0.000000</td>\n",
       "      <td>1.000000</td>\n",
       "      <td>0.00000</td>\n",
       "      <td>0.000000</td>\n",
       "      <td>11.580000</td>\n",
       "      <td>0.000000</td>\n",
       "    </tr>\n",
       "    <tr>\n",
       "      <th>25%</th>\n",
       "      <td>2500.75000</td>\n",
       "      <td>1.562853e+07</td>\n",
       "      <td>584.000000</td>\n",
       "      <td>32.000000</td>\n",
       "      <td>3.000000</td>\n",
       "      <td>0.000000</td>\n",
       "      <td>1.000000</td>\n",
       "      <td>0.00000</td>\n",
       "      <td>0.000000</td>\n",
       "      <td>51002.110000</td>\n",
       "      <td>0.000000</td>\n",
       "    </tr>\n",
       "    <tr>\n",
       "      <th>50%</th>\n",
       "      <td>5000.50000</td>\n",
       "      <td>1.569074e+07</td>\n",
       "      <td>652.000000</td>\n",
       "      <td>37.000000</td>\n",
       "      <td>5.000000</td>\n",
       "      <td>97198.540000</td>\n",
       "      <td>1.000000</td>\n",
       "      <td>1.00000</td>\n",
       "      <td>1.000000</td>\n",
       "      <td>100193.915000</td>\n",
       "      <td>0.000000</td>\n",
       "    </tr>\n",
       "    <tr>\n",
       "      <th>75%</th>\n",
       "      <td>7500.25000</td>\n",
       "      <td>1.575323e+07</td>\n",
       "      <td>718.000000</td>\n",
       "      <td>44.000000</td>\n",
       "      <td>7.000000</td>\n",
       "      <td>127644.240000</td>\n",
       "      <td>2.000000</td>\n",
       "      <td>1.00000</td>\n",
       "      <td>1.000000</td>\n",
       "      <td>149388.247500</td>\n",
       "      <td>0.000000</td>\n",
       "    </tr>\n",
       "    <tr>\n",
       "      <th>max</th>\n",
       "      <td>10000.00000</td>\n",
       "      <td>1.581569e+07</td>\n",
       "      <td>850.000000</td>\n",
       "      <td>92.000000</td>\n",
       "      <td>10.000000</td>\n",
       "      <td>250898.090000</td>\n",
       "      <td>4.000000</td>\n",
       "      <td>1.00000</td>\n",
       "      <td>1.000000</td>\n",
       "      <td>199992.480000</td>\n",
       "      <td>1.000000</td>\n",
       "    </tr>\n",
       "  </tbody>\n",
       "</table>\n",
       "</div>"
      ],
      "text/plain": [
       "         RowNumber    CustomerId   CreditScore           Age        Tenure  \\\n",
       "count  10000.00000  1.000000e+04  10000.000000  10000.000000  10000.000000   \n",
       "mean    5000.50000  1.569094e+07    650.528800     38.921800      5.012800   \n",
       "std     2886.89568  7.193619e+04     96.653299     10.487806      2.892174   \n",
       "min        1.00000  1.556570e+07    350.000000     18.000000      0.000000   \n",
       "25%     2500.75000  1.562853e+07    584.000000     32.000000      3.000000   \n",
       "50%     5000.50000  1.569074e+07    652.000000     37.000000      5.000000   \n",
       "75%     7500.25000  1.575323e+07    718.000000     44.000000      7.000000   \n",
       "max    10000.00000  1.581569e+07    850.000000     92.000000     10.000000   \n",
       "\n",
       "             Balance  NumOfProducts    HasCrCard  IsActiveMember  \\\n",
       "count   10000.000000   10000.000000  10000.00000    10000.000000   \n",
       "mean    76485.889288       1.530200      0.70550        0.515100   \n",
       "std     62397.405202       0.581654      0.45584        0.499797   \n",
       "min         0.000000       1.000000      0.00000        0.000000   \n",
       "25%         0.000000       1.000000      0.00000        0.000000   \n",
       "50%     97198.540000       1.000000      1.00000        1.000000   \n",
       "75%    127644.240000       2.000000      1.00000        1.000000   \n",
       "max    250898.090000       4.000000      1.00000        1.000000   \n",
       "\n",
       "       EstimatedSalary        Exited  \n",
       "count     10000.000000  10000.000000  \n",
       "mean     100090.239881      0.203700  \n",
       "std       57510.492818      0.402769  \n",
       "min          11.580000      0.000000  \n",
       "25%       51002.110000      0.000000  \n",
       "50%      100193.915000      0.000000  \n",
       "75%      149388.247500      0.000000  \n",
       "max      199992.480000      1.000000  "
      ]
     },
     "execution_count": 6,
     "metadata": {},
     "output_type": "execute_result"
    }
   ],
   "source": [
    "data.describe()"
   ]
  },
  {
   "cell_type": "markdown",
   "id": "d4ac8cfa",
   "metadata": {},
   "source": [
    "### Observation result:\n",
    "1. From the information above, data has no missing value. Every variable column has 10000 datarows.\n",
    "2. The mean of CreditScore of bank customers is 650.528800\n",
    "3. The mean of Tenure of bank customers is 5.012800\n",
    "4. The mean of NumOfProducts that customers purchased is 1.530200\n",
    "5. Variable Exited data type integer, it must be boolean, so varible Exited need to change to be boolean."
   ]
  },
  {
   "cell_type": "code",
   "execution_count": 7,
   "id": "6e02e951",
   "metadata": {},
   "outputs": [],
   "source": [
    "data['Exited'] = data['Exited'].astype('bool')"
   ]
  },
  {
   "cell_type": "code",
   "execution_count": 8,
   "id": "d6fae401",
   "metadata": {},
   "outputs": [
    {
     "data": {
      "text/html": [
       "<div>\n",
       "<style scoped>\n",
       "    .dataframe tbody tr th:only-of-type {\n",
       "        vertical-align: middle;\n",
       "    }\n",
       "\n",
       "    .dataframe tbody tr th {\n",
       "        vertical-align: top;\n",
       "    }\n",
       "\n",
       "    .dataframe thead th {\n",
       "        text-align: right;\n",
       "    }\n",
       "</style>\n",
       "<table border=\"1\" class=\"dataframe\">\n",
       "  <thead>\n",
       "    <tr style=\"text-align: right;\">\n",
       "      <th></th>\n",
       "      <th>CreditScore</th>\n",
       "      <th>Geography</th>\n",
       "      <th>Gender</th>\n",
       "      <th>Age</th>\n",
       "      <th>Tenure</th>\n",
       "      <th>Balance</th>\n",
       "      <th>NumOfProducts</th>\n",
       "      <th>HasCrCard</th>\n",
       "      <th>IsActiveMember</th>\n",
       "      <th>EstimatedSalary</th>\n",
       "      <th>Exited</th>\n",
       "    </tr>\n",
       "  </thead>\n",
       "  <tbody>\n",
       "    <tr>\n",
       "      <th>0</th>\n",
       "      <td>619</td>\n",
       "      <td>France</td>\n",
       "      <td>Female</td>\n",
       "      <td>42</td>\n",
       "      <td>2</td>\n",
       "      <td>0.00</td>\n",
       "      <td>1</td>\n",
       "      <td>1</td>\n",
       "      <td>1</td>\n",
       "      <td>101348.88</td>\n",
       "      <td>True</td>\n",
       "    </tr>\n",
       "    <tr>\n",
       "      <th>1</th>\n",
       "      <td>608</td>\n",
       "      <td>Spain</td>\n",
       "      <td>Female</td>\n",
       "      <td>41</td>\n",
       "      <td>1</td>\n",
       "      <td>83807.86</td>\n",
       "      <td>1</td>\n",
       "      <td>0</td>\n",
       "      <td>1</td>\n",
       "      <td>112542.58</td>\n",
       "      <td>False</td>\n",
       "    </tr>\n",
       "    <tr>\n",
       "      <th>2</th>\n",
       "      <td>502</td>\n",
       "      <td>France</td>\n",
       "      <td>Female</td>\n",
       "      <td>42</td>\n",
       "      <td>8</td>\n",
       "      <td>159660.80</td>\n",
       "      <td>3</td>\n",
       "      <td>1</td>\n",
       "      <td>0</td>\n",
       "      <td>113931.57</td>\n",
       "      <td>True</td>\n",
       "    </tr>\n",
       "    <tr>\n",
       "      <th>3</th>\n",
       "      <td>699</td>\n",
       "      <td>France</td>\n",
       "      <td>Female</td>\n",
       "      <td>39</td>\n",
       "      <td>1</td>\n",
       "      <td>0.00</td>\n",
       "      <td>2</td>\n",
       "      <td>0</td>\n",
       "      <td>0</td>\n",
       "      <td>93826.63</td>\n",
       "      <td>False</td>\n",
       "    </tr>\n",
       "    <tr>\n",
       "      <th>4</th>\n",
       "      <td>850</td>\n",
       "      <td>Spain</td>\n",
       "      <td>Female</td>\n",
       "      <td>43</td>\n",
       "      <td>2</td>\n",
       "      <td>125510.82</td>\n",
       "      <td>1</td>\n",
       "      <td>1</td>\n",
       "      <td>1</td>\n",
       "      <td>79084.10</td>\n",
       "      <td>False</td>\n",
       "    </tr>\n",
       "  </tbody>\n",
       "</table>\n",
       "</div>"
      ],
      "text/plain": [
       "   CreditScore Geography  Gender  Age  Tenure    Balance  NumOfProducts  \\\n",
       "0          619    France  Female   42       2       0.00              1   \n",
       "1          608     Spain  Female   41       1   83807.86              1   \n",
       "2          502    France  Female   42       8  159660.80              3   \n",
       "3          699    France  Female   39       1       0.00              2   \n",
       "4          850     Spain  Female   43       2  125510.82              1   \n",
       "\n",
       "   HasCrCard  IsActiveMember  EstimatedSalary  Exited  \n",
       "0          1               1        101348.88    True  \n",
       "1          0               1        112542.58   False  \n",
       "2          1               0        113931.57    True  \n",
       "3          0               0         93826.63   False  \n",
       "4          1               1         79084.10   False  "
      ]
     },
     "execution_count": 8,
     "metadata": {},
     "output_type": "execute_result"
    }
   ],
   "source": [
    "#remove customer id and row number \n",
    "data_2 = data.iloc[:,3:]\n",
    "data_2.head()\n"
   ]
  },
  {
   "cell_type": "code",
   "execution_count": 9,
   "id": "c2357efa",
   "metadata": {},
   "outputs": [
    {
     "data": {
      "text/html": [
       "<div>\n",
       "<style scoped>\n",
       "    .dataframe tbody tr th:only-of-type {\n",
       "        vertical-align: middle;\n",
       "    }\n",
       "\n",
       "    .dataframe tbody tr th {\n",
       "        vertical-align: top;\n",
       "    }\n",
       "\n",
       "    .dataframe thead th {\n",
       "        text-align: right;\n",
       "    }\n",
       "</style>\n",
       "<table border=\"1\" class=\"dataframe\">\n",
       "  <thead>\n",
       "    <tr style=\"text-align: right;\">\n",
       "      <th></th>\n",
       "      <th>CreditScore</th>\n",
       "      <th>Age</th>\n",
       "      <th>Tenure</th>\n",
       "      <th>Balance</th>\n",
       "      <th>NumOfProducts</th>\n",
       "      <th>HasCrCard</th>\n",
       "      <th>IsActiveMember</th>\n",
       "      <th>EstimatedSalary</th>\n",
       "      <th>Exited</th>\n",
       "      <th>Geography_France</th>\n",
       "      <th>Geography_Germany</th>\n",
       "      <th>Geography_Spain</th>\n",
       "      <th>Gender_Female</th>\n",
       "      <th>Gender_Male</th>\n",
       "    </tr>\n",
       "  </thead>\n",
       "  <tbody>\n",
       "    <tr>\n",
       "      <th>0</th>\n",
       "      <td>619</td>\n",
       "      <td>42</td>\n",
       "      <td>2</td>\n",
       "      <td>0.00</td>\n",
       "      <td>1</td>\n",
       "      <td>1</td>\n",
       "      <td>1</td>\n",
       "      <td>101348.88</td>\n",
       "      <td>True</td>\n",
       "      <td>1</td>\n",
       "      <td>0</td>\n",
       "      <td>0</td>\n",
       "      <td>1</td>\n",
       "      <td>0</td>\n",
       "    </tr>\n",
       "    <tr>\n",
       "      <th>1</th>\n",
       "      <td>608</td>\n",
       "      <td>41</td>\n",
       "      <td>1</td>\n",
       "      <td>83807.86</td>\n",
       "      <td>1</td>\n",
       "      <td>0</td>\n",
       "      <td>1</td>\n",
       "      <td>112542.58</td>\n",
       "      <td>False</td>\n",
       "      <td>0</td>\n",
       "      <td>0</td>\n",
       "      <td>1</td>\n",
       "      <td>1</td>\n",
       "      <td>0</td>\n",
       "    </tr>\n",
       "    <tr>\n",
       "      <th>2</th>\n",
       "      <td>502</td>\n",
       "      <td>42</td>\n",
       "      <td>8</td>\n",
       "      <td>159660.80</td>\n",
       "      <td>3</td>\n",
       "      <td>1</td>\n",
       "      <td>0</td>\n",
       "      <td>113931.57</td>\n",
       "      <td>True</td>\n",
       "      <td>1</td>\n",
       "      <td>0</td>\n",
       "      <td>0</td>\n",
       "      <td>1</td>\n",
       "      <td>0</td>\n",
       "    </tr>\n",
       "    <tr>\n",
       "      <th>3</th>\n",
       "      <td>699</td>\n",
       "      <td>39</td>\n",
       "      <td>1</td>\n",
       "      <td>0.00</td>\n",
       "      <td>2</td>\n",
       "      <td>0</td>\n",
       "      <td>0</td>\n",
       "      <td>93826.63</td>\n",
       "      <td>False</td>\n",
       "      <td>1</td>\n",
       "      <td>0</td>\n",
       "      <td>0</td>\n",
       "      <td>1</td>\n",
       "      <td>0</td>\n",
       "    </tr>\n",
       "    <tr>\n",
       "      <th>4</th>\n",
       "      <td>850</td>\n",
       "      <td>43</td>\n",
       "      <td>2</td>\n",
       "      <td>125510.82</td>\n",
       "      <td>1</td>\n",
       "      <td>1</td>\n",
       "      <td>1</td>\n",
       "      <td>79084.10</td>\n",
       "      <td>False</td>\n",
       "      <td>0</td>\n",
       "      <td>0</td>\n",
       "      <td>1</td>\n",
       "      <td>1</td>\n",
       "      <td>0</td>\n",
       "    </tr>\n",
       "  </tbody>\n",
       "</table>\n",
       "</div>"
      ],
      "text/plain": [
       "   CreditScore  Age  Tenure    Balance  NumOfProducts  HasCrCard  \\\n",
       "0          619   42       2       0.00              1          1   \n",
       "1          608   41       1   83807.86              1          0   \n",
       "2          502   42       8  159660.80              3          1   \n",
       "3          699   39       1       0.00              2          0   \n",
       "4          850   43       2  125510.82              1          1   \n",
       "\n",
       "   IsActiveMember  EstimatedSalary  Exited  Geography_France  \\\n",
       "0               1        101348.88    True                 1   \n",
       "1               1        112542.58   False                 0   \n",
       "2               0        113931.57    True                 1   \n",
       "3               0         93826.63   False                 1   \n",
       "4               1         79084.10   False                 0   \n",
       "\n",
       "   Geography_Germany  Geography_Spain  Gender_Female  Gender_Male  \n",
       "0                  0                0              1            0  \n",
       "1                  0                1              1            0  \n",
       "2                  0                0              1            0  \n",
       "3                  0                0              1            0  \n",
       "4                  0                1              1            0  "
      ]
     },
     "execution_count": 9,
     "metadata": {},
     "output_type": "execute_result"
    }
   ],
   "source": [
    "#convert all categorical variables into dummy variables\n",
    "data_dummies = pd.get_dummies(data_2)\n",
    "data_dummies.head()\n"
   ]
  },
  {
   "cell_type": "code",
   "execution_count": 10,
   "id": "c8f34d42",
   "metadata": {},
   "outputs": [],
   "source": [
    "#get correlation of churn with other variables:\n",
    "data_corr = data_dummies.corr()"
   ]
  },
  {
   "cell_type": "code",
   "execution_count": 11,
   "id": "701ac103",
   "metadata": {},
   "outputs": [
    {
     "data": {
      "text/html": [
       "<div>\n",
       "<style scoped>\n",
       "    .dataframe tbody tr th:only-of-type {\n",
       "        vertical-align: middle;\n",
       "    }\n",
       "\n",
       "    .dataframe tbody tr th {\n",
       "        vertical-align: top;\n",
       "    }\n",
       "\n",
       "    .dataframe thead th {\n",
       "        text-align: right;\n",
       "    }\n",
       "</style>\n",
       "<table border=\"1\" class=\"dataframe\">\n",
       "  <thead>\n",
       "    <tr style=\"text-align: right;\">\n",
       "      <th></th>\n",
       "      <th>CreditScore</th>\n",
       "      <th>Age</th>\n",
       "      <th>Tenure</th>\n",
       "      <th>Balance</th>\n",
       "      <th>NumOfProducts</th>\n",
       "      <th>HasCrCard</th>\n",
       "      <th>IsActiveMember</th>\n",
       "      <th>EstimatedSalary</th>\n",
       "      <th>Exited</th>\n",
       "      <th>Geography_France</th>\n",
       "      <th>Geography_Germany</th>\n",
       "      <th>Geography_Spain</th>\n",
       "      <th>Gender_Female</th>\n",
       "      <th>Gender_Male</th>\n",
       "    </tr>\n",
       "  </thead>\n",
       "  <tbody>\n",
       "    <tr>\n",
       "      <th>CreditScore</th>\n",
       "      <td>1.000000</td>\n",
       "      <td>-0.003965</td>\n",
       "      <td>0.000842</td>\n",
       "      <td>0.006268</td>\n",
       "      <td>0.012238</td>\n",
       "      <td>-0.005458</td>\n",
       "      <td>0.025651</td>\n",
       "      <td>-0.001384</td>\n",
       "      <td>-0.027094</td>\n",
       "      <td>-0.008928</td>\n",
       "      <td>0.005538</td>\n",
       "      <td>0.004780</td>\n",
       "      <td>0.002857</td>\n",
       "      <td>-0.002857</td>\n",
       "    </tr>\n",
       "    <tr>\n",
       "      <th>Age</th>\n",
       "      <td>-0.003965</td>\n",
       "      <td>1.000000</td>\n",
       "      <td>-0.009997</td>\n",
       "      <td>0.028308</td>\n",
       "      <td>-0.030680</td>\n",
       "      <td>-0.011721</td>\n",
       "      <td>0.085472</td>\n",
       "      <td>-0.007201</td>\n",
       "      <td>0.285323</td>\n",
       "      <td>-0.039208</td>\n",
       "      <td>0.046897</td>\n",
       "      <td>-0.001685</td>\n",
       "      <td>0.027544</td>\n",
       "      <td>-0.027544</td>\n",
       "    </tr>\n",
       "    <tr>\n",
       "      <th>Tenure</th>\n",
       "      <td>0.000842</td>\n",
       "      <td>-0.009997</td>\n",
       "      <td>1.000000</td>\n",
       "      <td>-0.012254</td>\n",
       "      <td>0.013444</td>\n",
       "      <td>0.022583</td>\n",
       "      <td>-0.028362</td>\n",
       "      <td>0.007784</td>\n",
       "      <td>-0.014001</td>\n",
       "      <td>-0.002848</td>\n",
       "      <td>-0.000567</td>\n",
       "      <td>0.003868</td>\n",
       "      <td>-0.014733</td>\n",
       "      <td>0.014733</td>\n",
       "    </tr>\n",
       "    <tr>\n",
       "      <th>Balance</th>\n",
       "      <td>0.006268</td>\n",
       "      <td>0.028308</td>\n",
       "      <td>-0.012254</td>\n",
       "      <td>1.000000</td>\n",
       "      <td>-0.304180</td>\n",
       "      <td>-0.014858</td>\n",
       "      <td>-0.010084</td>\n",
       "      <td>0.012797</td>\n",
       "      <td>0.118533</td>\n",
       "      <td>-0.231329</td>\n",
       "      <td>0.401110</td>\n",
       "      <td>-0.134892</td>\n",
       "      <td>-0.012087</td>\n",
       "      <td>0.012087</td>\n",
       "    </tr>\n",
       "    <tr>\n",
       "      <th>NumOfProducts</th>\n",
       "      <td>0.012238</td>\n",
       "      <td>-0.030680</td>\n",
       "      <td>0.013444</td>\n",
       "      <td>-0.304180</td>\n",
       "      <td>1.000000</td>\n",
       "      <td>0.003183</td>\n",
       "      <td>0.009612</td>\n",
       "      <td>0.014204</td>\n",
       "      <td>-0.047820</td>\n",
       "      <td>0.001230</td>\n",
       "      <td>-0.010419</td>\n",
       "      <td>0.009039</td>\n",
       "      <td>0.021859</td>\n",
       "      <td>-0.021859</td>\n",
       "    </tr>\n",
       "    <tr>\n",
       "      <th>HasCrCard</th>\n",
       "      <td>-0.005458</td>\n",
       "      <td>-0.011721</td>\n",
       "      <td>0.022583</td>\n",
       "      <td>-0.014858</td>\n",
       "      <td>0.003183</td>\n",
       "      <td>1.000000</td>\n",
       "      <td>-0.011866</td>\n",
       "      <td>-0.009933</td>\n",
       "      <td>-0.007138</td>\n",
       "      <td>0.002467</td>\n",
       "      <td>0.010577</td>\n",
       "      <td>-0.013480</td>\n",
       "      <td>-0.005766</td>\n",
       "      <td>0.005766</td>\n",
       "    </tr>\n",
       "    <tr>\n",
       "      <th>IsActiveMember</th>\n",
       "      <td>0.025651</td>\n",
       "      <td>0.085472</td>\n",
       "      <td>-0.028362</td>\n",
       "      <td>-0.010084</td>\n",
       "      <td>0.009612</td>\n",
       "      <td>-0.011866</td>\n",
       "      <td>1.000000</td>\n",
       "      <td>-0.011421</td>\n",
       "      <td>-0.156128</td>\n",
       "      <td>0.003317</td>\n",
       "      <td>-0.020486</td>\n",
       "      <td>0.016732</td>\n",
       "      <td>-0.022544</td>\n",
       "      <td>0.022544</td>\n",
       "    </tr>\n",
       "    <tr>\n",
       "      <th>EstimatedSalary</th>\n",
       "      <td>-0.001384</td>\n",
       "      <td>-0.007201</td>\n",
       "      <td>0.007784</td>\n",
       "      <td>0.012797</td>\n",
       "      <td>0.014204</td>\n",
       "      <td>-0.009933</td>\n",
       "      <td>-0.011421</td>\n",
       "      <td>1.000000</td>\n",
       "      <td>0.012097</td>\n",
       "      <td>-0.003332</td>\n",
       "      <td>0.010297</td>\n",
       "      <td>-0.006482</td>\n",
       "      <td>0.008112</td>\n",
       "      <td>-0.008112</td>\n",
       "    </tr>\n",
       "    <tr>\n",
       "      <th>Exited</th>\n",
       "      <td>-0.027094</td>\n",
       "      <td>0.285323</td>\n",
       "      <td>-0.014001</td>\n",
       "      <td>0.118533</td>\n",
       "      <td>-0.047820</td>\n",
       "      <td>-0.007138</td>\n",
       "      <td>-0.156128</td>\n",
       "      <td>0.012097</td>\n",
       "      <td>1.000000</td>\n",
       "      <td>-0.104955</td>\n",
       "      <td>0.173488</td>\n",
       "      <td>-0.052667</td>\n",
       "      <td>0.106512</td>\n",
       "      <td>-0.106512</td>\n",
       "    </tr>\n",
       "    <tr>\n",
       "      <th>Geography_France</th>\n",
       "      <td>-0.008928</td>\n",
       "      <td>-0.039208</td>\n",
       "      <td>-0.002848</td>\n",
       "      <td>-0.231329</td>\n",
       "      <td>0.001230</td>\n",
       "      <td>0.002467</td>\n",
       "      <td>0.003317</td>\n",
       "      <td>-0.003332</td>\n",
       "      <td>-0.104955</td>\n",
       "      <td>1.000000</td>\n",
       "      <td>-0.580359</td>\n",
       "      <td>-0.575418</td>\n",
       "      <td>-0.006772</td>\n",
       "      <td>0.006772</td>\n",
       "    </tr>\n",
       "    <tr>\n",
       "      <th>Geography_Germany</th>\n",
       "      <td>0.005538</td>\n",
       "      <td>0.046897</td>\n",
       "      <td>-0.000567</td>\n",
       "      <td>0.401110</td>\n",
       "      <td>-0.010419</td>\n",
       "      <td>0.010577</td>\n",
       "      <td>-0.020486</td>\n",
       "      <td>0.010297</td>\n",
       "      <td>0.173488</td>\n",
       "      <td>-0.580359</td>\n",
       "      <td>1.000000</td>\n",
       "      <td>-0.332084</td>\n",
       "      <td>0.024628</td>\n",
       "      <td>-0.024628</td>\n",
       "    </tr>\n",
       "    <tr>\n",
       "      <th>Geography_Spain</th>\n",
       "      <td>0.004780</td>\n",
       "      <td>-0.001685</td>\n",
       "      <td>0.003868</td>\n",
       "      <td>-0.134892</td>\n",
       "      <td>0.009039</td>\n",
       "      <td>-0.013480</td>\n",
       "      <td>0.016732</td>\n",
       "      <td>-0.006482</td>\n",
       "      <td>-0.052667</td>\n",
       "      <td>-0.575418</td>\n",
       "      <td>-0.332084</td>\n",
       "      <td>1.000000</td>\n",
       "      <td>-0.016889</td>\n",
       "      <td>0.016889</td>\n",
       "    </tr>\n",
       "    <tr>\n",
       "      <th>Gender_Female</th>\n",
       "      <td>0.002857</td>\n",
       "      <td>0.027544</td>\n",
       "      <td>-0.014733</td>\n",
       "      <td>-0.012087</td>\n",
       "      <td>0.021859</td>\n",
       "      <td>-0.005766</td>\n",
       "      <td>-0.022544</td>\n",
       "      <td>0.008112</td>\n",
       "      <td>0.106512</td>\n",
       "      <td>-0.006772</td>\n",
       "      <td>0.024628</td>\n",
       "      <td>-0.016889</td>\n",
       "      <td>1.000000</td>\n",
       "      <td>-1.000000</td>\n",
       "    </tr>\n",
       "    <tr>\n",
       "      <th>Gender_Male</th>\n",
       "      <td>-0.002857</td>\n",
       "      <td>-0.027544</td>\n",
       "      <td>0.014733</td>\n",
       "      <td>0.012087</td>\n",
       "      <td>-0.021859</td>\n",
       "      <td>0.005766</td>\n",
       "      <td>0.022544</td>\n",
       "      <td>-0.008112</td>\n",
       "      <td>-0.106512</td>\n",
       "      <td>0.006772</td>\n",
       "      <td>-0.024628</td>\n",
       "      <td>0.016889</td>\n",
       "      <td>-1.000000</td>\n",
       "      <td>1.000000</td>\n",
       "    </tr>\n",
       "  </tbody>\n",
       "</table>\n",
       "</div>"
      ],
      "text/plain": [
       "                   CreditScore       Age    Tenure   Balance  NumOfProducts  \\\n",
       "CreditScore           1.000000 -0.003965  0.000842  0.006268       0.012238   \n",
       "Age                  -0.003965  1.000000 -0.009997  0.028308      -0.030680   \n",
       "Tenure                0.000842 -0.009997  1.000000 -0.012254       0.013444   \n",
       "Balance               0.006268  0.028308 -0.012254  1.000000      -0.304180   \n",
       "NumOfProducts         0.012238 -0.030680  0.013444 -0.304180       1.000000   \n",
       "HasCrCard            -0.005458 -0.011721  0.022583 -0.014858       0.003183   \n",
       "IsActiveMember        0.025651  0.085472 -0.028362 -0.010084       0.009612   \n",
       "EstimatedSalary      -0.001384 -0.007201  0.007784  0.012797       0.014204   \n",
       "Exited               -0.027094  0.285323 -0.014001  0.118533      -0.047820   \n",
       "Geography_France     -0.008928 -0.039208 -0.002848 -0.231329       0.001230   \n",
       "Geography_Germany     0.005538  0.046897 -0.000567  0.401110      -0.010419   \n",
       "Geography_Spain       0.004780 -0.001685  0.003868 -0.134892       0.009039   \n",
       "Gender_Female         0.002857  0.027544 -0.014733 -0.012087       0.021859   \n",
       "Gender_Male          -0.002857 -0.027544  0.014733  0.012087      -0.021859   \n",
       "\n",
       "                   HasCrCard  IsActiveMember  EstimatedSalary    Exited  \\\n",
       "CreditScore        -0.005458        0.025651        -0.001384 -0.027094   \n",
       "Age                -0.011721        0.085472        -0.007201  0.285323   \n",
       "Tenure              0.022583       -0.028362         0.007784 -0.014001   \n",
       "Balance            -0.014858       -0.010084         0.012797  0.118533   \n",
       "NumOfProducts       0.003183        0.009612         0.014204 -0.047820   \n",
       "HasCrCard           1.000000       -0.011866        -0.009933 -0.007138   \n",
       "IsActiveMember     -0.011866        1.000000        -0.011421 -0.156128   \n",
       "EstimatedSalary    -0.009933       -0.011421         1.000000  0.012097   \n",
       "Exited             -0.007138       -0.156128         0.012097  1.000000   \n",
       "Geography_France    0.002467        0.003317        -0.003332 -0.104955   \n",
       "Geography_Germany   0.010577       -0.020486         0.010297  0.173488   \n",
       "Geography_Spain    -0.013480        0.016732        -0.006482 -0.052667   \n",
       "Gender_Female      -0.005766       -0.022544         0.008112  0.106512   \n",
       "Gender_Male         0.005766        0.022544        -0.008112 -0.106512   \n",
       "\n",
       "                   Geography_France  Geography_Germany  Geography_Spain  \\\n",
       "CreditScore               -0.008928           0.005538         0.004780   \n",
       "Age                       -0.039208           0.046897        -0.001685   \n",
       "Tenure                    -0.002848          -0.000567         0.003868   \n",
       "Balance                   -0.231329           0.401110        -0.134892   \n",
       "NumOfProducts              0.001230          -0.010419         0.009039   \n",
       "HasCrCard                  0.002467           0.010577        -0.013480   \n",
       "IsActiveMember             0.003317          -0.020486         0.016732   \n",
       "EstimatedSalary           -0.003332           0.010297        -0.006482   \n",
       "Exited                    -0.104955           0.173488        -0.052667   \n",
       "Geography_France           1.000000          -0.580359        -0.575418   \n",
       "Geography_Germany         -0.580359           1.000000        -0.332084   \n",
       "Geography_Spain           -0.575418          -0.332084         1.000000   \n",
       "Gender_Female             -0.006772           0.024628        -0.016889   \n",
       "Gender_Male                0.006772          -0.024628         0.016889   \n",
       "\n",
       "                   Gender_Female  Gender_Male  \n",
       "CreditScore             0.002857    -0.002857  \n",
       "Age                     0.027544    -0.027544  \n",
       "Tenure                 -0.014733     0.014733  \n",
       "Balance                -0.012087     0.012087  \n",
       "NumOfProducts           0.021859    -0.021859  \n",
       "HasCrCard              -0.005766     0.005766  \n",
       "IsActiveMember         -0.022544     0.022544  \n",
       "EstimatedSalary         0.008112    -0.008112  \n",
       "Exited                  0.106512    -0.106512  \n",
       "Geography_France       -0.006772     0.006772  \n",
       "Geography_Germany       0.024628    -0.024628  \n",
       "Geography_Spain        -0.016889     0.016889  \n",
       "Gender_Female           1.000000    -1.000000  \n",
       "Gender_Male            -1.000000     1.000000  "
      ]
     },
     "execution_count": 11,
     "metadata": {},
     "output_type": "execute_result"
    }
   ],
   "source": [
    "data_corr"
   ]
  },
  {
   "cell_type": "code",
   "execution_count": 12,
   "id": "dc8a3bfa",
   "metadata": {},
   "outputs": [
    {
     "data": {
      "text/plain": [
       "<AxesSubplot:>"
      ]
     },
     "execution_count": 12,
     "metadata": {},
     "output_type": "execute_result"
    },
    {
     "data": {
      "text/plain": [
       "<Figure size 864x720 with 0 Axes>"
      ]
     },
     "metadata": {},
     "output_type": "display_data"
    },
    {
     "data": {
      "image/png": "[encoded data removed]",
      "text/plain": [
       "<Figure size 432x288 with 1 Axes>"
      ]
     },
     "metadata": {},
     "output_type": "display_data"
    }
   ],
   "source": [
    "plt.figure(figsize = (12,10))\n",
    "data_corr[['Exited']].sort_values(by='Exited', ascending = False).plot(kind='bar')"
   ]
  },
  {
   "cell_type": "markdown",
   "id": "1daf2033",
   "metadata": {},
   "source": [
    "#### Observastion result\n",
    "Based on correlation bar plot, we can conclude that:\n",
    "\n",
    "Age, Geography_Germany to be positively correlated with Exited. While IsActiveMember, Gender_Male is negatively correlated with Exited \n",
    "\n",
    "That's quite interesting that IsActiveMember is negatively correlated with Exited.\n",
    "\n",
    "We need to more explore with the dataset!"
   ]
  },
  {
   "cell_type": "markdown",
   "id": "da7a3d84",
   "metadata": {},
   "source": [
    "# Data Exploration\n",
    "data exploration helps to understand the patterns in the data and potentially form some hypothesis.\n",
    "### A).Demographic  \n",
    "Understanding variable Age, Gender, Geography, and IsActiveMember, NumOfProducts "
   ]
  },
  {
   "cell_type": "markdown",
   "id": "6078ef7a",
   "metadata": {},
   "source": [
    "#### 1. Gender Distribution"
   ]
  },
  {
   "cell_type": "code",
   "execution_count": 13,
   "id": "1cc6e764",
   "metadata": {},
   "outputs": [
    {
     "data": {
      "image/png": "[encoded data removed]",
      "text/plain": [
       "<Figure size 432x288 with 1 Axes>"
      ]
     },
     "metadata": {},
     "output_type": "display_data"
    }
   ],
   "source": [
    "colors = ['#0E185F','#2FA4FF']\n",
    "ax = (data_2['Gender'].value_counts()*100.0/len(data_2)).plot(kind='bar', stacked = True,\n",
    "                                                                          rot = 0,\n",
    "                                                                          color = colors)\n",
    "ax.yaxis.set_major_formatter(mtick.PercentFormatter())\n",
    "ax.set_ylabel('% Customers')\n",
    "ax.set_xlabel('Gender')\n",
    "ax.set_ylabel('% Customers')\n",
    "ax.set_title('Gender Distribution')\n",
    "\n",
    "#create a list to collect the plt.patches data\n",
    "total = []\n",
    "\n",
    "#find the values and append to list\n",
    "for i in ax.patches:\n",
    "    total.append(i.get_width())\n",
    "\n",
    "#set individual bar labels using above list\n",
    "totals = sum(total)\n",
    "\n",
    "for i in ax.patches:\n",
    "    #get_width pulls left or right; get_y pushes up or down\n",
    "    ax.text(i.get_x()+.15, i.get_height()-3.5, \\\n",
    "           str(round((i.get_height()/totals), 1))+ '%',\n",
    "           fontsize=12,\n",
    "           color = 'white',\n",
    "           weight = 'bold')\n"
   ]
  },
  {
   "cell_type": "markdown",
   "id": "30e606b7",
   "metadata": {},
   "source": [
    "From the graphic above, we can conclude that the most customers are male"
   ]
  },
  {
   "cell_type": "markdown",
   "id": "9843ffb0",
   "metadata": {},
   "source": [
    "#### 2. Geography Distribution "
   ]
  },
  {
   "cell_type": "code",
   "execution_count": 14,
   "id": "56ea12bf",
   "metadata": {},
   "outputs": [
    {
     "data": {
      "image/png": "[encoded data removed]",
      "text/plain": [
       "<Figure size 432x288 with 1 Axes>"
      ]
     },
     "metadata": {},
     "output_type": "display_data"
    }
   ],
   "source": [
    "colors = ['#0E185F']\n",
    "ax = (data_2['Geography'].value_counts()*100.0/len(data_2)).plot(kind='bar', stacked = True,\n",
    "                                                                          rot = 0,\n",
    "                                                                          color = colors)\n",
    "ax.yaxis.set_major_formatter(mtick.PercentFormatter())\n",
    "ax.set_ylabel('% Customers')\n",
    "ax.set_xlabel('Geography')\n",
    "ax.set_ylabel('% Customers')\n",
    "ax.set_title('Geography Distribution')\n",
    "\n",
    "#create a list to collect the plt.patches data\n",
    "total = []\n",
    "\n",
    "#find the values and append to list\n",
    "for i in ax.patches:\n",
    "    total.append(i.get_width())\n",
    "\n",
    "#set individual bar labels using above list\n",
    "totals = sum(total)\n",
    "\n",
    "for i in ax.patches:\n",
    "    #get_width pulls left or right; get_y pushes up or down\n",
    "    ax.text(i.get_x()+.15, i.get_height()-3.5, \\\n",
    "           str(round((i.get_height()/totals), 1))+ '%',\n",
    "           fontsize=12,\n",
    "           color = 'white',\n",
    "           weight = 'bold')\n"
   ]
  },
  {
   "cell_type": "markdown",
   "id": "a46e3aff",
   "metadata": {},
   "source": [
    "From the graphic above the most customers are from France"
   ]
  },
  {
   "cell_type": "markdown",
   "id": "1c02e2ae",
   "metadata": {},
   "source": [
    "#### 3. Active Member Distribution"
   ]
  },
  {
   "cell_type": "code",
   "execution_count": 15,
   "id": "4a30de8b",
   "metadata": {},
   "outputs": [
    {
     "data": {
      "text/plain": [
       "Text(0.5, 1.0, '% of Customer')"
      ]
     },
     "execution_count": 15,
     "metadata": {},
     "output_type": "execute_result"
    },
    {
     "data": {
      "image/png": "[encoded data removed]",
      "text/plain": [
       "<Figure size 360x360 with 1 Axes>"
      ]
     },
     "metadata": {},
     "output_type": "display_data"
    }
   ],
   "source": [
    "colors = ['#95D1CC','#2FA4FF']\n",
    "ax = (data_2['IsActiveMember'].value_counts()*100.0/len(data_2))\\\n",
    ".plot.pie(autopct = '%.1f%%', labels = ['No', 'Yes'], colors = colors, figsize =(5,5),fontsize = 13 )\n",
    "ax.yaxis.set_major_formatter(mtick.PercentFormatter())\n",
    "ax.set_ylabel('Customer is an Active Member?', fontsize = 12) \n",
    "ax.set_title('% of Customer', fontsize = 12)"
   ]
  },
  {
   "cell_type": "markdown",
   "id": "e5618f26",
   "metadata": {},
   "source": [
    "From the graphic above, we can conclude that unactive members is much more than active members"
   ]
  },
  {
   "cell_type": "markdown",
   "id": "1bee9842",
   "metadata": {},
   "source": [
    "#### 4. Has Credit Card"
   ]
  },
  {
   "cell_type": "code",
   "execution_count": 16,
   "id": "bf3feae0",
   "metadata": {},
   "outputs": [
    {
     "data": {
      "text/plain": [
       "Text(0.5, 1.0, '% of Customer')"
      ]
     },
     "execution_count": 16,
     "metadata": {},
     "output_type": "execute_result"
    },
    {
     "data": {
      "image/png": "[encoded data removed]",
      "text/plain": [
       "<Figure size 360x360 with 1 Axes>"
      ]
     },
     "metadata": {},
     "output_type": "display_data"
    }
   ],
   "source": [
    "colors = ['#95D1CC','#2FA4FF']\n",
    "ax = (data_2['HasCrCard'].value_counts()*100.0/len(data_2))\\\n",
    ".plot.pie(autopct = '%.1f%%', labels = ['No', 'Yes'], colors = colors, figsize =(5,5),fontsize = 13 )\n",
    "ax.yaxis.set_major_formatter(mtick.PercentFormatter())\n",
    "ax.set_ylabel('Customer Has Credit Card?', fontsize = 12) \n",
    "ax.set_title('% of Customer', fontsize = 12)"
   ]
  },
  {
   "cell_type": "markdown",
   "id": "e6af4f1e",
   "metadata": {},
   "source": [
    "From the graphic above, we can conclude the most of the bank's customers has not credit card"
   ]
  },
  {
   "cell_type": "markdown",
   "id": "671527e8",
   "metadata": {},
   "source": [
    "#### 5. Age Distribution "
   ]
  },
  {
   "cell_type": "code",
   "execution_count": 17,
   "id": "0615e147",
   "metadata": {},
   "outputs": [
    {
     "name": "stderr",
     "output_type": "stream",
     "text": [
      "C:\\Users\\ASUS\\anaconda3\\lib\\site-packages\\seaborn\\distributions.py:2619: FutureWarning: `distplot` is a deprecated function and will be removed in a future version. Please adapt your code to use either `displot` (a figure-level function with similar flexibility) or `histplot` (an axes-level function for histograms).\n",
      "  warnings.warn(msg, FutureWarning)\n"
     ]
    },
    {
     "data": {
      "text/plain": [
       "Text(0.5, 1.0, '# of Customes by Their Age')"
      ]
     },
     "execution_count": 17,
     "metadata": {},
     "output_type": "execute_result"
    },
    {
     "data": {
      "image/png": "[encoded data removed]",
      "text/plain": [
       "<Figure size 432x288 with 1 Axes>"
      ]
     },
     "metadata": {},
     "output_type": "display_data"
    }
   ],
   "source": [
    "ax = sns.distplot(data_2['Age'], hist = True, kde = False,\n",
    "                 bins = int(180/5), color = 'darkblue',\n",
    "                 hist_kws={'edgecolor':'black'},\n",
    "                 kde_kws={'linewidth': 4})\n",
    "ax.set_ylabel('# of Customers')\n",
    "ax.set_title('Age (year)')\n",
    "ax.set_title('# of Customes by Their Age')\n"
   ]
  },
  {
   "cell_type": "markdown",
   "id": "191eab57",
   "metadata": {},
   "source": [
    "#### 5. Number of Product Purchased by Customers Distribution"
   ]
  },
  {
   "cell_type": "code",
   "execution_count": 18,
   "id": "a600c327",
   "metadata": {
    "scrolled": true
   },
   "outputs": [
    {
     "data": {
      "text/plain": [
       "Text(0.5, 1.0, 'Number of Products that Purchased by Customers')"
      ]
     },
     "execution_count": 18,
     "metadata": {},
     "output_type": "execute_result"
    },
    {
     "data": {
      "image/png": "[encoded data removed]",
      "text/plain": [
       "<Figure size 432x288 with 1 Axes>"
      ]
     },
     "metadata": {},
     "output_type": "display_data"
    }
   ],
   "source": [
    "ax = data_2['NumOfProducts'].value_counts().plot(kind = 'bar', rot = 0, width = 0.3) \n",
    "ax.set_ylabel('# of Customers')\n",
    "ax.set_title('Number of Products that Purchased by Customers')"
   ]
  },
  {
   "cell_type": "markdown",
   "id": "6c64f512",
   "metadata": {},
   "source": [
    "### B) Exited Rate"
   ]
  },
  {
   "cell_type": "code",
   "execution_count": 19,
   "id": "309971d3",
   "metadata": {},
   "outputs": [
    {
     "data": {
      "image/png": "[encoded data removed]",
      "text/plain": [
       "<Figure size 576x432 with 1 Axes>"
      ]
     },
     "metadata": {},
     "output_type": "display_data"
    }
   ],
   "source": [
    "colors = ['#0E185F','#2FA4FF']\n",
    "ax = (data['Exited'].value_counts()*100.0/len(data)).plot(kind = 'bar',\n",
    "                                                         stacked = True,\n",
    "                                                         rot = 0,\n",
    "                                                         color = colors,\n",
    "                                                         figsize = (8,6)\n",
    "                                                         )\n",
    "ax.yaxis.set_major_formatter(mtick.PercentFormatter())\n",
    "ax.set_ylabel('% Customers', size = 14)\n",
    "ax.set_xlabel('Exited', size = 14)\n",
    "ax.set_title('Exited Rate', size = 14)\n",
    "\n",
    "#create a list to collerct the plt.patches data\n",
    "total = []\n",
    "\n",
    "#find the values and append to list\n",
    "for i in ax.patches:\n",
    "    total.append(i.get_width())\n",
    "#set individual bar labels using above list \n",
    "totals = sum(total)\n",
    "\n",
    "for i in ax.patches:\n",
    "    #get_width pulls left or right; get_y pushes up or down\n",
    "    ax.text(i.get_x()+.15, i.get_height()-4.0,\\\n",
    "            str(round((i.get_height()/totals), 1))+ '%',\n",
    "           fontsize = 12, \n",
    "           color = 'white',\n",
    "           weight = 'bold',\n",
    "           size = 14)"
   ]
  },
  {
   "cell_type": "markdown",
   "id": "2d306d4c",
   "metadata": {},
   "source": [
    "from the graphic above we can conclude that 79.6% of customers do not exited. Clearly the data as we expected a large majority of the customers to not exited. \n",
    "\n",
    "Now we explore exited rate by tenure, credit score, age, balance, hascrcard, isactive member, \n",
    "and estimated salary."
   ]
  },
  {
   "cell_type": "markdown",
   "id": "46b29500",
   "metadata": {},
   "source": [
    "### C) Explore Exited Rate"
   ]
  },
  {
   "cell_type": "markdown",
   "id": "fd333ec2",
   "metadata": {},
   "source": [
    "#### 1.  Exited rate by Tenure"
   ]
  },
  {
   "cell_type": "code",
   "execution_count": 20,
   "id": "cfb38901",
   "metadata": {},
   "outputs": [
    {
     "data": {
      "text/plain": [
       "<AxesSubplot:xlabel='Exited', ylabel='Tenure'>"
      ]
     },
     "execution_count": 20,
     "metadata": {},
     "output_type": "execute_result"
    },
    {
     "data": {
      "image/png": "[encoded data removed]",
      "text/plain": [
       "<Figure size 432x288 with 1 Axes>"
      ]
     },
     "metadata": {},
     "output_type": "display_data"
    }
   ],
   "source": [
    "sns.boxplot(x = data_2.Exited, y = data_2.Tenure, palette=\"Blues\")"
   ]
  },
  {
   "cell_type": "markdown",
   "id": "afbe4267",
   "metadata": {},
   "source": [
    "#### 2.Exited rate by Credit Score "
   ]
  },
  {
   "cell_type": "code",
   "execution_count": 21,
   "id": "a0fced2b",
   "metadata": {},
   "outputs": [
    {
     "data": {
      "text/plain": [
       "<AxesSubplot:xlabel='Exited', ylabel='CreditScore'>"
      ]
     },
     "execution_count": 21,
     "metadata": {},
     "output_type": "execute_result"
    },
    {
     "data": {
      "image/png": "[encoded data removed]",
      "text/plain": [
       "<Figure size 432x288 with 1 Axes>"
      ]
     },
     "metadata": {},
     "output_type": "display_data"
    }
   ],
   "source": [
    "sns.boxplot(x = data_2.Exited, y = data_2.CreditScore, palette=\"Blues\")"
   ]
  },
  {
   "cell_type": "markdown",
   "id": "dd3489a3",
   "metadata": {},
   "source": [
    "#### 3. Exited Rate by Age"
   ]
  },
  {
   "cell_type": "code",
   "execution_count": 22,
   "id": "cb669ab0",
   "metadata": {},
   "outputs": [
    {
     "data": {
      "text/plain": [
       "<AxesSubplot:xlabel='Exited', ylabel='Age'>"
      ]
     },
     "execution_count": 22,
     "metadata": {},
     "output_type": "execute_result"
    },
    {
     "data": {
      "image/png": "[encoded data removed]",
      "text/plain": [
       "<Figure size 432x288 with 1 Axes>"
      ]
     },
     "metadata": {},
     "output_type": "display_data"
    }
   ],
   "source": [
    "sns.boxplot(x = data_2.Exited , y = data_2.Age, palette = \"Blues\")"
   ]
  },
  {
   "cell_type": "markdown",
   "id": "a9600dd7",
   "metadata": {},
   "source": [
    "#### 4. Exited Rate by Balance"
   ]
  },
  {
   "cell_type": "code",
   "execution_count": 23,
   "id": "545a2db9",
   "metadata": {},
   "outputs": [
    {
     "data": {
      "text/plain": [
       "<AxesSubplot:xlabel='Exited', ylabel='Balance'>"
      ]
     },
     "execution_count": 23,
     "metadata": {},
     "output_type": "execute_result"
    },
    {
     "data": {
      "image/png": "[encoded data removed]",
      "text/plain": [
       "<Figure size 432x288 with 1 Axes>"
      ]
     },
     "metadata": {},
     "output_type": "display_data"
    }
   ],
   "source": [
    "sns.boxplot(x = data_2.Exited, y = data_2.Balance, palette =\"Blues\")"
   ]
  },
  {
   "cell_type": "markdown",
   "id": "8155ece8",
   "metadata": {},
   "source": [
    "#### 5. Exited Rate by HasCrCard"
   ]
  },
  {
   "cell_type": "code",
   "execution_count": 24,
   "id": "c971a8db",
   "metadata": {},
   "outputs": [
    {
     "data": {
      "text/plain": [
       "<AxesSubplot:xlabel='Exited', ylabel='HasCrCard'>"
      ]
     },
     "execution_count": 24,
     "metadata": {},
     "output_type": "execute_result"
    },
    {
     "data": {
      "image/png": "[encoded data removed]",
      "text/plain": [
       "<Figure size 432x288 with 1 Axes>"
      ]
     },
     "metadata": {},
     "output_type": "display_data"
    }
   ],
   "source": [
    "sns.boxplot(x = data_2.Exited, y = data_2.HasCrCard, palette = \"Blues\")"
   ]
  },
  {
   "cell_type": "markdown",
   "id": "74a6e959",
   "metadata": {},
   "source": [
    "#### 6. Exited Rate By IsActiveMember"
   ]
  },
  {
   "cell_type": "code",
   "execution_count": 25,
   "id": "6322a1a5",
   "metadata": {},
   "outputs": [
    {
     "data": {
      "text/plain": [
       "<AxesSubplot:xlabel='Exited', ylabel='IsActiveMember'>"
      ]
     },
     "execution_count": 25,
     "metadata": {},
     "output_type": "execute_result"
    },
    {
     "data": {
      "image/png": "[encoded data removed]",
      "text/plain": [
       "<Figure size 432x288 with 1 Axes>"
      ]
     },
     "metadata": {},
     "output_type": "display_data"
    }
   ],
   "source": [
    "sns.boxplot(x = data_2.Exited, y = data_2.IsActiveMember, palette = \"Blues\")"
   ]
  },
  {
   "cell_type": "markdown",
   "id": "24984955",
   "metadata": {},
   "source": [
    "# Observation result\n",
    "As we can see from the box plot above (1-6)\n",
    "We can conclude that:\n",
    "\n",
    "a) The variables that impactful to customer to be exited are : \n",
    "\n",
    "    1. Tenure\n",
    "    2. Credit Score\n",
    "    3. Balance\n",
    "    4. HasCrCard\n",
    "    5. IsActiveMember\n",
    "    \n",
    "b) The most significant variable that impact to Exited Rate is Tenure\n",
    "\n",
    "c) Variables HasCrCard and IsActiveMember has equal results of Exited Rate"
   ]
  },
  {
   "cell_type": "markdown",
   "id": "f7451051",
   "metadata": {},
   "source": [
    "# Scaling Data"
   ]
  },
  {
   "cell_type": "code",
   "execution_count": 26,
   "id": "6daab12e",
   "metadata": {},
   "outputs": [],
   "source": [
    "dummy_variable = ['Gender', 'Geography','Exited']\n",
    "\n",
    "to_transform = ['Age','Tenure','CreditScore','Balance', 'NumOfProducts','IsActiveMember','EstimatedSalary','HasCrCard']\n",
    "\n",
    "dummy_data_file_index = 0"
   ]
  },
  {
   "cell_type": "code",
   "execution_count": 27,
   "id": "c313d3e6",
   "metadata": {},
   "outputs": [],
   "source": [
    "from sklearn.preprocessing import StandardScaler\n",
    "def get_dummy_data_with_output(dummy_variable, data_2):\n",
    "    global dummy_data_file_index\n",
    "    dummy_data = pd.get_dummies(data_2, prefix = dummy_variable, columns = dummy_variable, drop_first = True)\n",
    "    dummy_data.to_csv('dummy_var_data'+str(dummy_data_file_index)+'.csv', index=False)\n",
    "    y = dummy_data['Exited_True']\n",
    "    dummy_data.drop(columns=['Exited_True'], inplace=True)\n",
    "    sc = StandardScaler()\n",
    "    dummy_data.loc[:,to_transform] = sc.fit_transform(dummy_data.loc[:, to_transform])\n",
    "    dummy_data_file_index += 1\n",
    "    return y, dummy_data\n",
    "y, dummy_data = get_dummy_data_with_output(dummy_variable, data_2)"
   ]
  },
  {
   "cell_type": "code",
   "execution_count": 28,
   "id": "69bde811",
   "metadata": {},
   "outputs": [],
   "source": [
    "from sklearn.model_selection import train_test_split\n",
    "from sklearn.linear_model import LogisticRegression \n",
    "from sklearn.metrics import confusion_matrix, accuracy_score, classification_report\n",
    "import statsmodels.api as sm\n",
    "from sklearn.metrics import roc_curve\n",
    "from sklearn.metrics import roc_auc_score"
   ]
  },
  {
   "cell_type": "code",
   "execution_count": 29,
   "id": "dd02ac26",
   "metadata": {},
   "outputs": [],
   "source": [
    "X_train, X_test, y_train, y_test = train_test_split(dummy_data, y, test_size = 0.3)"
   ]
  },
  {
   "cell_type": "markdown",
   "id": "65f5de21",
   "metadata": {},
   "source": [
    "# Logistic Regression Modelling "
   ]
  },
  {
   "cell_type": "code",
   "execution_count": 30,
   "id": "037a48a4",
   "metadata": {},
   "outputs": [],
   "source": [
    "def get_sm_model(y_train, X_train, X_test):\n",
    "    X_train = sm.add_constant(X_train)\n",
    "    X_test = sm.add_constant(X_test)\n",
    "    logit_model = sm.Logit(y_train,X_train)\n",
    "    model = logit_model.fit()\n",
    "    print(model.summary())\n",
    "    y_hat = list(map(round, model.predict(X_test)))\n",
    "    arr = np.c_[y_hat, y_test]\n",
    "    print('n\\Printing predicted and actual values:\\n',arr)\n",
    "    print('Confusion Matrix \\n', confusion_matrix(y_test,y_hat))\n",
    "    print('Accuracy Score: ', accuracy_score(y_test, y_hat))\n",
    "    return model, arr\n",
    "    "
   ]
  },
  {
   "cell_type": "code",
   "execution_count": 31,
   "id": "a3d97d94",
   "metadata": {},
   "outputs": [],
   "source": [
    "def get_sk_model(y_train, X_train, X_test):\n",
    "    model = LogisticRegression(max_iter=10000)\n",
    "    model.fit(X_train, y_train)\n",
    "    arr = np.c_[X_train.columns.tolist(), model.coef_[0]]\n",
    "    intercept  = model.intercept_[0]\n",
    "    print('\\nPrinting model coefficients and intercept summary:\\n ', arr, model.intercept_)\n",
    "    y_pred = model.predict (X_test)\n",
    "    print('n\\Printing predicted and actual values from sklearn:\\n', np.c_[y_pred,y_test])\n",
    "    print('Confusion Matrix\\n', confusion_matrix(y_test, y_pred))\n",
    "    plt.matshow(confusion_matrix(y_test, y_pred))\n",
    "    plt.title('Confusion Matrix')\n",
    "    plt.colorbar()\n",
    "    plt.ylabel('True label')\n",
    "    plt.xlabel('Predicted label')\n",
    "    plt.grid(b=None)\n",
    "    plt.show()\n",
    "    print('Accuracy Scores:\\n', accuracy_score(y_test, y_pred))\n",
    "    print('Classification Report: \\n', classification_report(y_test, y_pred))\n",
    "    return model, arr, intercept"
   ]
  },
  {
   "cell_type": "code",
   "execution_count": 32,
   "id": "b1c212ba",
   "metadata": {},
   "outputs": [],
   "source": [
    "from sklearn.metrics import roc_curve \n",
    "def roc(model, X_test, y_test):\n",
    "    probs = model.predict_proba(X_test)\n",
    "    fpr, tpr, _ = roc_curve(y_test, probs[:,1])\n",
    "    plt.plot(fpr, tpr, marker='.')\n",
    "    plt.xlabel('False Positive Rate')\n",
    "    plt.ylabel('True Positive Rate')\n",
    "    plt.show()\n",
    "    print('AUC: %.3f' % roc_auc_score(y_test, probs[:,1]))"
   ]
  },
  {
   "cell_type": "code",
   "execution_count": 33,
   "id": "0d2a61a8",
   "metadata": {},
   "outputs": [
    {
     "name": "stderr",
     "output_type": "stream",
     "text": [
      "C:\\Users\\ASUS\\anaconda3\\lib\\site-packages\\statsmodels\\tsa\\tsatools.py:142: FutureWarning: In a future version of pandas all arguments of concat except for the argument 'objs' will be keyword-only\n",
      "  x = pd.concat(x[::order], 1)\n",
      "C:\\Users\\ASUS\\anaconda3\\lib\\site-packages\\statsmodels\\discrete\\discrete_model.py:1810: RuntimeWarning: overflow encountered in exp\n",
      "  return 1/(1+np.exp(-X))\n",
      "C:\\Users\\ASUS\\anaconda3\\lib\\site-packages\\statsmodels\\discrete\\discrete_model.py:1863: RuntimeWarning: divide by zero encountered in log\n",
      "  return np.sum(np.log(self.cdf(q*np.dot(X,params))))\n"
     ]
    },
    {
     "name": "stdout",
     "output_type": "stream",
     "text": [
      "Optimization terminated successfully.\n",
      "         Current function value: inf\n",
      "         Iterations 6\n",
      "                           Logit Regression Results                           \n",
      "==============================================================================\n",
      "Dep. Variable:            Exited_True   No. Observations:                 7000\n",
      "Model:                          Logit   Df Residuals:                     6988\n",
      "Method:                           MLE   Df Model:                           11\n",
      "Date:                Tue, 05 Apr 2022   Pseudo R-squ.:                     inf\n",
      "Time:                        14:59:59   Log-Likelihood:                   -inf\n",
      "converged:                       True   LL-Null:                        0.0000\n",
      "Covariance Type:            nonrobust   LLR p-value:                     1.000\n",
      "=====================================================================================\n",
      "                        coef    std err          z      P>|z|      [0.025      0.975]\n",
      "-------------------------------------------------------------------------------------\n",
      "const                -1.5202      0.059    -25.644      0.000      -1.636      -1.404\n",
      "CreditScore          -0.0607      0.032     -1.888      0.059      -0.124       0.002\n",
      "Age                   0.7617      0.032     23.557      0.000       0.698       0.825\n",
      "Tenure               -0.0602      0.032     -1.864      0.062      -0.124       0.003\n",
      "Balance               0.2014      0.038      5.252      0.000       0.126       0.277\n",
      "NumOfProducts        -0.0621      0.033     -1.878      0.060      -0.127       0.003\n",
      "HasCrCard            -0.0387      0.032     -1.198      0.231      -0.102       0.025\n",
      "IsActiveMember       -0.5180      0.034    -15.103      0.000      -0.585      -0.451\n",
      "EstimatedSalary       0.0092      0.032      0.283      0.778      -0.054       0.073\n",
      "Gender_Male          -0.5812      0.065     -8.904      0.000      -0.709      -0.453\n",
      "Geography_Germany     0.7312      0.080      9.134      0.000       0.574       0.888\n",
      "Geography_Spain      -0.0088      0.085     -0.103      0.918      -0.176       0.158\n",
      "=====================================================================================\n",
      "n\\Printing predicted and actual values:\n",
      " [[0 0]\n",
      " [0 0]\n",
      " [0 0]\n",
      " ...\n",
      " [0 0]\n",
      " [0 1]\n",
      " [0 0]]\n",
      "Confusion Matrix \n",
      " [[2308   84]\n",
      " [ 480  128]]\n",
      "Accuracy Score:  0.812\n"
     ]
    },
    {
     "name": "stderr",
     "output_type": "stream",
     "text": [
      "C:\\Users\\ASUS\\anaconda3\\lib\\site-packages\\statsmodels\\base\\model.py:547: HessianInversionWarning: Inverting hessian failed, no bse or cov_params available\n",
      "  warnings.warn('Inverting hessian failed, no bse or cov_params '\n",
      "C:\\Users\\ASUS\\anaconda3\\lib\\site-packages\\statsmodels\\base\\model.py:547: HessianInversionWarning: Inverting hessian failed, no bse or cov_params available\n",
      "  warnings.warn('Inverting hessian failed, no bse or cov_params '\n"
     ]
    }
   ],
   "source": [
    "get_sm_model(y_train, X_train, X_test);"
   ]
  },
  {
   "cell_type": "code",
   "execution_count": 34,
   "id": "2a0d462a",
   "metadata": {},
   "outputs": [
    {
     "name": "stdout",
     "output_type": "stream",
     "text": [
      "\n",
      "Printing model coefficients and intercept summary:\n",
      "  [['CreditScore' '-0.06063343372179094']\n",
      " ['Age' '0.760643551152028']\n",
      " ['Tenure' '-0.060072329457952774']\n",
      " ['Balance' '0.20181136345411432']\n",
      " ['NumOfProducts' '-0.06185303718879999']\n",
      " ['HasCrCard' '-0.03856166997971133']\n",
      " ['IsActiveMember' '-0.5170584747274728']\n",
      " ['EstimatedSalary' '0.009173393993503145']\n",
      " ['Gender_Male' '-0.5785570826493849']\n",
      " ['Geography_Germany' '0.7266782291734835']\n",
      " ['Geography_Spain' '-0.010482839239945922']] [-1.51909891]\n",
      "n\\Printing predicted and actual values from sklearn:\n",
      " [[0 0]\n",
      " [0 0]\n",
      " [0 0]\n",
      " ...\n",
      " [0 0]\n",
      " [0 1]\n",
      " [0 0]]\n",
      "Confusion Matrix\n",
      " [[2309   83]\n",
      " [ 480  128]]\n"
     ]
    },
    {
     "data": {
      "image/png": "[encoded data removed]",
      "text/plain": [
       "<Figure size 288x288 with 2 Axes>"
      ]
     },
     "metadata": {},
     "output_type": "display_data"
    },
    {
     "name": "stdout",
     "output_type": "stream",
     "text": [
      "Accuracy Scores:\n",
      " 0.8123333333333334\n",
      "Classification Report: \n",
      "               precision    recall  f1-score   support\n",
      "\n",
      "           0       0.83      0.97      0.89      2392\n",
      "           1       0.61      0.21      0.31       608\n",
      "\n",
      "    accuracy                           0.81      3000\n",
      "   macro avg       0.72      0.59      0.60      3000\n",
      "weighted avg       0.78      0.81      0.77      3000\n",
      "\n"
     ]
    }
   ],
   "source": [
    "model, arr, intercept = get_sk_model(y_train, X_train, X_test);"
   ]
  },
  {
   "cell_type": "code",
   "execution_count": 35,
   "id": "9488f03f",
   "metadata": {},
   "outputs": [
    {
     "data": {
      "image/png": "[encoded data removed]",
      "text/plain": [
       "<Figure size 432x288 with 1 Axes>"
      ]
     },
     "metadata": {},
     "output_type": "display_data"
    },
    {
     "name": "stdout",
     "output_type": "stream",
     "text": [
      "AUC: 0.763\n"
     ]
    }
   ],
   "source": [
    "roc(model, X_test, y_test)"
   ]
  },
  {
   "cell_type": "code",
   "execution_count": 37,
   "id": "4a58ea03",
   "metadata": {},
   "outputs": [],
   "source": [
    "from xgboost import XGBClassifier"
   ]
  },
  {
   "cell_type": "code",
   "execution_count": 38,
   "id": "95c4a115",
   "metadata": {},
   "outputs": [],
   "source": [
    "def get_sk_modelxgb(y_train, X_train, X_test):\n",
    "    xg = XGBClassifier()\n",
    "    xg.fit(X_train, y_train)\n",
    "    arr = np.c_[X_train.columns.tolist(), model.coef_[0]]\n",
    "    intercept  = model.intercept_[0]\n",
    "    print('\\nPrinting model coefficients and intercept summary:\\n ', arr, model.intercept_)\n",
    "    y_pred = xg.predict (X_test)\n",
    "    print('n\\Printing predicted and actual values from sklearn:\\n', np.c_[y_pred,y_test])\n",
    "    print('Confusion Matrix\\n', confusion_matrix(y_test, y_pred))\n",
    "    plt.matshow(confusion_matrix(y_test, y_pred))\n",
    "    plt.title('Confusion Matrix')\n",
    "    plt.colorbar()\n",
    "    plt.ylabel('True label')\n",
    "    plt.xlabel('Predicted label')\n",
    "    plt.grid(b=None)\n",
    "    plt.show()\n",
    "    print('Accuracy Scores:\\n', accuracy_score(y_test, y_pred))\n",
    "    print('Classification Report: \\n', classification_report(y_test, y_pred))\n",
    "    return model, arr, intercept"
   ]
  },
  {
   "cell_type": "code",
   "execution_count": 39,
   "id": "00617433",
   "metadata": {},
   "outputs": [
    {
     "name": "stderr",
     "output_type": "stream",
     "text": [
      "C:\\Users\\ASUS\\anaconda3\\lib\\site-packages\\xgboost\\sklearn.py:1224: UserWarning: The use of label encoder in XGBClassifier is deprecated and will be removed in a future release. To remove this warning, do the following: 1) Pass option use_label_encoder=False when constructing XGBClassifier object; and 2) Encode your labels (y) as integers starting with 0, i.e. 0, 1, 2, ..., [num_class - 1].\n",
      "  warnings.warn(label_encoder_deprecation_msg, UserWarning)\n"
     ]
    },
    {
     "name": "stdout",
     "output_type": "stream",
     "text": [
      "[15:41:44] WARNING: D:\\bld\\xgboost-split_1645118015404\\work\\src\\learner.cc:1115: Starting in XGBoost 1.3.0, the default evaluation metric used with the objective 'binary:logistic' was changed from 'error' to 'logloss'. Explicitly set eval_metric if you'd like to restore the old behavior.\n",
      "\n",
      "Printing model coefficients and intercept summary:\n",
      "  [['CreditScore' '-0.06063343372179094']\n",
      " ['Age' '0.760643551152028']\n",
      " ['Tenure' '-0.060072329457952774']\n",
      " ['Balance' '0.20181136345411432']\n",
      " ['NumOfProducts' '-0.06185303718879999']\n",
      " ['HasCrCard' '-0.03856166997971133']\n",
      " ['IsActiveMember' '-0.5170584747274728']\n",
      " ['EstimatedSalary' '0.009173393993503145']\n",
      " ['Gender_Male' '-0.5785570826493849']\n",
      " ['Geography_Germany' '0.7266782291734835']\n",
      " ['Geography_Spain' '-0.010482839239945922']] [-1.51909891]\n",
      "n\\Printing predicted and actual values from sklearn:\n",
      " [[0 0]\n",
      " [0 0]\n",
      " [0 0]\n",
      " ...\n",
      " [0 0]\n",
      " [0 1]\n",
      " [0 0]]\n",
      "Confusion Matrix\n",
      " [[2272  120]\n",
      " [ 309  299]]\n"
     ]
    },
    {
     "data": {
      "image/png": "[encoded data removed]",
      "text/plain": [
       "<Figure size 288x288 with 2 Axes>"
      ]
     },
     "metadata": {},
     "output_type": "display_data"
    },
    {
     "name": "stdout",
     "output_type": "stream",
     "text": [
      "Accuracy Scores:\n",
      " 0.857\n",
      "Classification Report: \n",
      "               precision    recall  f1-score   support\n",
      "\n",
      "           0       0.88      0.95      0.91      2392\n",
      "           1       0.71      0.49      0.58       608\n",
      "\n",
      "    accuracy                           0.86      3000\n",
      "   macro avg       0.80      0.72      0.75      3000\n",
      "weighted avg       0.85      0.86      0.85      3000\n",
      "\n"
     ]
    }
   ],
   "source": [
    "model, arr, intercept = get_sk_modelxgb(y_train, X_train, X_test);"
   ]
  },
  {
   "cell_type": "code",
   "execution_count": 40,
   "id": "126ede2c",
   "metadata": {},
   "outputs": [
    {
     "name": "stdout",
     "output_type": "stream",
     "text": [
      "[15:41:46] WARNING: D:\\bld\\xgboost-split_1645118015404\\work\\src\\learner.cc:1115: Starting in XGBoost 1.3.0, the default evaluation metric used with the objective 'binary:logistic' was changed from 'error' to 'logloss'. Explicitly set eval_metric if you'd like to restore the old behavior.\n"
     ]
    },
    {
     "name": "stderr",
     "output_type": "stream",
     "text": [
      "C:\\Users\\ASUS\\anaconda3\\lib\\site-packages\\xgboost\\sklearn.py:1224: UserWarning: The use of label encoder in XGBClassifier is deprecated and will be removed in a future release. To remove this warning, do the following: 1) Pass option use_label_encoder=False when constructing XGBClassifier object; and 2) Encode your labels (y) as integers starting with 0, i.e. 0, 1, 2, ..., [num_class - 1].\n",
      "  warnings.warn(label_encoder_deprecation_msg, UserWarning)\n"
     ]
    },
    {
     "data": {
      "image/png": "[encoded data removed]",
      "text/plain": [
       "<Figure size 432x288 with 1 Axes>"
      ]
     },
     "metadata": {},
     "output_type": "display_data"
    },
    {
     "name": "stdout",
     "output_type": "stream",
     "text": [
      "AUC: 0.843\n"
     ]
    }
   ],
   "source": [
    "def roc2(model, X_test, y_test):\n",
    "    xg = XGBClassifier()\n",
    "    xg.fit(X_train, y_train)\n",
    "    probs = xg.predict_proba(X_test)\n",
    "    fpr, tpr, _ = roc_curve(y_test, probs[:,1])\n",
    "    plt.plot(fpr, tpr, marker='.')\n",
    "    plt.xlabel('False Positive Rate')\n",
    "    plt.ylabel('True Positive Rate')\n",
    "    plt.show()\n",
    "    print('AUC: %.3f' % roc_auc_score(y_test, probs[:,1]))\n",
    "roc2(model, X_test, y_test)"
   ]
  },
  {
   "cell_type": "code",
   "execution_count": null,
   "id": "b9483216",
   "metadata": {},
   "outputs": [],
   "source": []
  }
 ],
 "metadata": {
  "kernelspec": {
   "display_name": "Python 3 (ipykernel)",
   "language": "python",
   "name": "python3"
  },
  "language_info": {
   "codemirror_mode": {
    "name": "ipython",
    "version": 3
   },
   "file_extension": ".py",
   "mimetype": "text/x-python",
   "name": "python",
   "nbconvert_exporter": "python",
   "pygments_lexer": "ipython3",
   "version": "3.9.7"
  }
 },
 "nbformat": 4,
 "nbformat_minor": 5
}
